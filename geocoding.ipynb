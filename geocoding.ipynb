{
 "cells": [
  {
   "cell_type": "code",
   "execution_count": null,
   "metadata": {},
   "outputs": [],
   "source": [
    "from dotenv import load_dotenv\n",
    "import os\n",
    "\n",
    "from langchain_openai import OpenAIEmbeddings\n",
    "\n",
    "GEOCODING_API_KEY = os.getenv(\"GEOCODING_API_KEY\")\n",
    "print(GEOCODING_API_KEY)"
   ]
  },
  {
   "cell_type": "code",
   "execution_count": null,
   "metadata": {},
   "outputs": [],
   "source": [
    "import pandas as pd\n",
    "import requests\n",
    "import time\n",
    "\n",
    "df = pd.read_csv(\"data.csv\")\n",
    "\n",
    "batch_size = 1000\n",
    "start = 8231 \n",
    "\n",
    "success = 0\n",
    "fail = 0\n",
    "for i in range(start, start + batch_size):\n",
    "  row = df.iloc[i]\n",
    "  address = row[\"name\"] + \" \" + (row[\"location\"] or row[\"city\"])\n",
    "  url = f\"https://maps.googleapis.com/maps/api/geocode/json?address={address}&key={GEOCODING_API_KEY}\"\n",
    "  res = requests.get(url)\n",
    "  data = res.json()\n",
    "\n",
    "  if data[\"status\"] == \"OK\" and data[\"results\"] is not None:\n",
    "    lat = data[\"results\"][0][\"geometry\"][\"location\"][\"lat\"]\n",
    "    lng = data[\"results\"][0][\"geometry\"][\"location\"][\"lng\"]\n",
    "    # print(lat, lng)\n",
    "    success += 1\n",
    "  else:\n",
    "    fail += 1\n",
    "    print(data) # print error message\n",
    "\n",
    "    lat = None\n",
    "    lng = None\n",
    "  \n",
    "  print(f\"{i}: {success} success, {fail} fail\")\n",
    "  df.at[i, \"lat\"] = lat\n",
    "  df.at[i, \"lng\"] = lng\n",
    "\n",
    "  # sleep\n",
    "  time.sleep(0.05)\n",
    "\n",
    "df.to_csv(\"data.csv\", index=False)"
   ]
  },
  {
   "cell_type": "code",
   "execution_count": null,
   "metadata": {},
   "outputs": [],
   "source": [
    "df.to_csv(\"data.csv\", index=False)"
   ]
  }
 ],
 "metadata": {
  "kernelspec": {
   "display_name": "env",
   "language": "python",
   "name": "python3"
  },
  "language_info": {
   "codemirror_mode": {
    "name": "ipython",
    "version": 3
   },
   "file_extension": ".py",
   "mimetype": "text/x-python",
   "name": "python",
   "nbconvert_exporter": "python",
   "pygments_lexer": "ipython3",
   "version": "3.11.2"
  }
 },
 "nbformat": 4,
 "nbformat_minor": 2
}
